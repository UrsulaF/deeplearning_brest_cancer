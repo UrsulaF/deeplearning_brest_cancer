{
  "nbformat": 4,
  "nbformat_minor": 0,
  "metadata": {
    "colab": {
      "provenance": []
    },
    "kernelspec": {
      "name": "python3",
      "display_name": "Python 3"
    },
    "language_info": {
      "name": "python"
    }
  },
  "cells": [
    {
      "cell_type": "markdown",
      "source": [
        "**Objetivos:**\n",
        "Classificação binária - Brest Cancer (Cancer de mama)\n",
        "\n",
        "* Maligno: O tumor é cancerígeno e pode se espalhar para outras partes do corpo.\n",
        "* Benigno: O tumor não é cancerígeno e não se espalha.\n",
        "\n",
        "\n"
      ],
      "metadata": {
        "id": "L3spME6vFI4V"
      }
    },
    {
      "cell_type": "markdown",
      "source": [
        "Rede neural profunda (Deep Learning): Indicado quando temos bom processamento e alto volume de dados."
      ],
      "metadata": {
        "id": "lzEWch7xAL4Q"
      }
    },
    {
      "cell_type": "code",
      "execution_count": 1,
      "metadata": {
        "id": "1TP3R5iOAH1B"
      },
      "outputs": [],
      "source": [
        "import pandas as pd\n",
        "from sklearn.model_selection import train_test_split\n",
        "import numpy as np\n",
        "import seaborn as sns\n",
        "from sklearn.metrics import confusion_matrix, accuracy_score"
      ]
    },
    {
      "cell_type": "code",
      "source": [
        "# biblioteca desenvolvida pelo Meta AI, muito utilizada para treinar e construir redes neurais profundas\n",
        "import torch\n",
        "torch.__version__"
      ],
      "metadata": {
        "colab": {
          "base_uri": "https://localhost:8080/",
          "height": 36
        },
        "id": "WdonCH7RFvOT",
        "outputId": "c56ca6c5-aabc-49d9-d01b-48d1297a2979"
      },
      "execution_count": 2,
      "outputs": [
        {
          "output_type": "execute_result",
          "data": {
            "text/plain": [
              "'2.4.1+cu121'"
            ],
            "application/vnd.google.colaboratory.intrinsic+json": {
              "type": "string"
            }
          },
          "metadata": {},
          "execution_count": 2
        }
      ]
    },
    {
      "cell_type": "code",
      "source": [
        "import torch.nn as nn"
      ],
      "metadata": {
        "id": "9my4Fl9BGA8n"
      },
      "execution_count": 3,
      "outputs": []
    },
    {
      "cell_type": "code",
      "source": [
        "# São usados para definir a semente (seed) dos geradores de números aleatórios nas bibliotecas NumPy e PyTorch,\n",
        "np.random.seed(123)\n",
        "torch.manual_seed(123)\n",
        "# Define a semente para os números aleatórios usados nas operações do PyTorch, como a inicialização de pesos de redes neurais e a aleatorização de dados durante o treinamento."
      ],
      "metadata": {
        "colab": {
          "base_uri": "https://localhost:8080/"
        },
        "id": "JlTfGDa0GLHQ",
        "outputId": "7f8748cf-821f-41f1-d713-1c57d8f805f1"
      },
      "execution_count": 4,
      "outputs": [
        {
          "output_type": "execute_result",
          "data": {
            "text/plain": [
              "<torch._C.Generator at 0x7e7b4647be50>"
            ]
          },
          "metadata": {},
          "execution_count": 4
        }
      ]
    },
    {
      "cell_type": "markdown",
      "source": [
        "Teremos 2 arquivos, um de entradas de dados e um de saidas, iremos abaixo abrir esses arquivos:"
      ],
      "metadata": {
        "id": "UOOb7nZ2HC0L"
      }
    },
    {
      "cell_type": "code",
      "source": [
        "features = pd.read_csv('entradas_breast.csv')"
      ],
      "metadata": {
        "id": "fWmK5Z_PHVql"
      },
      "execution_count": 5,
      "outputs": []
    },
    {
      "cell_type": "code",
      "source": [
        "features.info()"
      ],
      "metadata": {
        "colab": {
          "base_uri": "https://localhost:8080/"
        },
        "id": "Do4J8qAtHdG5",
        "outputId": "62238386-bbd4-4b98-be8e-ac764fb44d1c"
      },
      "execution_count": 6,
      "outputs": [
        {
          "output_type": "stream",
          "name": "stdout",
          "text": [
            "<class 'pandas.core.frame.DataFrame'>\n",
            "RangeIndex: 569 entries, 0 to 568\n",
            "Data columns (total 30 columns):\n",
            " #   Column                    Non-Null Count  Dtype  \n",
            "---  ------                    --------------  -----  \n",
            " 0    radius_mean              569 non-null    float64\n",
            " 1    texture_mean             569 non-null    float64\n",
            " 2    perimeter_mean           569 non-null    float64\n",
            " 3    area_mean                569 non-null    float64\n",
            " 4    smoothness_mean          569 non-null    float64\n",
            " 5    compactness_mean         569 non-null    float64\n",
            " 6    concavity_mean           569 non-null    float64\n",
            " 7   concave_points_mean       569 non-null    float64\n",
            " 8    symmetry_mean            569 non-null    float64\n",
            " 9    fractal_dimension_mean   569 non-null    float64\n",
            " 10   radius_se                569 non-null    float64\n",
            " 11   texture_se               569 non-null    float64\n",
            " 12   perimeter_se             569 non-null    float64\n",
            " 13   area_se                  569 non-null    float64\n",
            " 14   smoothness_se            569 non-null    float64\n",
            " 15   compactness_se           569 non-null    float64\n",
            " 16   concavity_se             569 non-null    float64\n",
            " 17   concave_points_se        569 non-null    float64\n",
            " 18   symmetry_se              569 non-null    float64\n",
            " 19   fractal_dimension_se     569 non-null    float64\n",
            " 20   radius_worst             569 non-null    float64\n",
            " 21   texture_worst            569 non-null    float64\n",
            " 22   perimeter_worst          569 non-null    float64\n",
            " 23   area_worst               569 non-null    float64\n",
            " 24   smoothness_worst         569 non-null    float64\n",
            " 25   compactness_worst        569 non-null    float64\n",
            " 26   concavity_worst          569 non-null    float64\n",
            " 27   concave_points_worst     569 non-null    float64\n",
            " 28   symmetry_worst           569 non-null    float64\n",
            " 29   fractal_dimension_worst  569 non-null    float64\n",
            "dtypes: float64(30)\n",
            "memory usage: 133.5 KB\n"
          ]
        }
      ]
    },
    {
      "cell_type": "code",
      "source": [
        "previsoes = pd.read_csv('saidas_breast.csv')"
      ],
      "metadata": {
        "id": "RoSmKVO8HYGt"
      },
      "execution_count": 7,
      "outputs": []
    },
    {
      "cell_type": "code",
      "source": [
        "previsoes.info()"
      ],
      "metadata": {
        "colab": {
          "base_uri": "https://localhost:8080/"
        },
        "id": "X5Rbn5R_HeiP",
        "outputId": "1f4b8ca3-c269-43f1-f20b-9b8172be079c"
      },
      "execution_count": 8,
      "outputs": [
        {
          "output_type": "stream",
          "name": "stdout",
          "text": [
            "<class 'pandas.core.frame.DataFrame'>\n",
            "RangeIndex: 569 entries, 0 to 568\n",
            "Data columns (total 1 columns):\n",
            " #   Column  Non-Null Count  Dtype\n",
            "---  ------  --------------  -----\n",
            " 0   0       569 non-null    int64\n",
            "dtypes: int64(1)\n",
            "memory usage: 4.6 KB\n"
          ]
        }
      ]
    },
    {
      "cell_type": "markdown",
      "source": [
        "Verificando balanceamento:"
      ],
      "metadata": {
        "id": "GvgT2uecH_O4"
      }
    },
    {
      "cell_type": "code",
      "source": [
        "previsoes['0'].value_counts(normalize=True) * 100"
      ],
      "metadata": {
        "colab": {
          "base_uri": "https://localhost:8080/",
          "height": 178
        },
        "id": "b8Ao1JKQIAy-",
        "outputId": "49630f43-3cc3-444a-cf68-55f519d70b78"
      },
      "execution_count": 9,
      "outputs": [
        {
          "output_type": "execute_result",
          "data": {
            "text/plain": [
              "0\n",
              "1    62.741652\n",
              "0    37.258348\n",
              "Name: proportion, dtype: float64"
            ],
            "text/html": [
              "<div>\n",
              "<style scoped>\n",
              "    .dataframe tbody tr th:only-of-type {\n",
              "        vertical-align: middle;\n",
              "    }\n",
              "\n",
              "    .dataframe tbody tr th {\n",
              "        vertical-align: top;\n",
              "    }\n",
              "\n",
              "    .dataframe thead th {\n",
              "        text-align: right;\n",
              "    }\n",
              "</style>\n",
              "<table border=\"1\" class=\"dataframe\">\n",
              "  <thead>\n",
              "    <tr style=\"text-align: right;\">\n",
              "      <th></th>\n",
              "      <th>proportion</th>\n",
              "    </tr>\n",
              "    <tr>\n",
              "      <th>0</th>\n",
              "      <th></th>\n",
              "    </tr>\n",
              "  </thead>\n",
              "  <tbody>\n",
              "    <tr>\n",
              "      <th>1</th>\n",
              "      <td>62.741652</td>\n",
              "    </tr>\n",
              "    <tr>\n",
              "      <th>0</th>\n",
              "      <td>37.258348</td>\n",
              "    </tr>\n",
              "  </tbody>\n",
              "</table>\n",
              "</div><br><label><b>dtype:</b> float64</label>"
            ]
          },
          "metadata": {},
          "execution_count": 9
        }
      ]
    },
    {
      "cell_type": "markdown",
      "source": [
        "Realizando divisão em treino e teste:"
      ],
      "metadata": {
        "id": "t5mQssm7IHUH"
      }
    },
    {
      "cell_type": "code",
      "source": [
        "previsoes_train, previsoes_test, features_train, features_test = train_test_split(previsoes,\n",
        "                                                                                  features,\n",
        "                                                                                  test_size = 0.25)"
      ],
      "metadata": {
        "id": "CljYgEMMIJ9q"
      },
      "execution_count": 10,
      "outputs": []
    },
    {
      "cell_type": "code",
      "source": [
        "previsoes_train.shape"
      ],
      "metadata": {
        "colab": {
          "base_uri": "https://localhost:8080/"
        },
        "id": "JlVMRPfcIp8N",
        "outputId": "8e24c784-17fb-4baf-f5cc-0150b7b6042c"
      },
      "execution_count": 11,
      "outputs": [
        {
          "output_type": "execute_result",
          "data": {
            "text/plain": [
              "(426, 1)"
            ]
          },
          "metadata": {},
          "execution_count": 11
        }
      ]
    },
    {
      "cell_type": "code",
      "source": [
        "features_train.shape"
      ],
      "metadata": {
        "colab": {
          "base_uri": "https://localhost:8080/"
        },
        "id": "09EdXpxFIy_d",
        "outputId": "b7124e60-6b11-4ec0-f952-088c89b92119"
      },
      "execution_count": 12,
      "outputs": [
        {
          "output_type": "execute_result",
          "data": {
            "text/plain": [
              "(426, 30)"
            ]
          },
          "metadata": {},
          "execution_count": 12
        }
      ]
    },
    {
      "cell_type": "markdown",
      "source": [
        "**Transformação dos dados para tensores:**"
      ],
      "metadata": {
        "id": "TzeVNm1EId38"
      }
    },
    {
      "cell_type": "markdown",
      "source": [
        "Como sabemos criamos nossos dados na estrutura de dataframes."
      ],
      "metadata": {
        "id": "kerQA_6VJJeB"
      }
    },
    {
      "cell_type": "code",
      "source": [
        "type(features_train)"
      ],
      "metadata": {
        "colab": {
          "base_uri": "https://localhost:8080/",
          "height": 203
        },
        "id": "duvbeGILI_sR",
        "outputId": "6c314c2c-dce3-4a7d-bb3d-476447befb99"
      },
      "execution_count": 13,
      "outputs": [
        {
          "output_type": "execute_result",
          "data": {
            "text/plain": [
              "pandas.core.frame.DataFrame"
            ],
            "text/html": [
              "<div style=\"max-width:800px; border: 1px solid var(--colab-border-color);\"><style>\n",
              "      pre.function-repr-contents {\n",
              "        overflow-x: auto;\n",
              "        padding: 8px 12px;\n",
              "        max-height: 500px;\n",
              "      }\n",
              "\n",
              "      pre.function-repr-contents.function-repr-contents-collapsed {\n",
              "        cursor: pointer;\n",
              "        max-height: 100px;\n",
              "      }\n",
              "    </style>\n",
              "    <pre style=\"white-space: initial; background:\n",
              "         var(--colab-secondary-surface-color); padding: 8px 12px;\n",
              "         border-bottom: 1px solid var(--colab-border-color);\"><b>pandas.core.frame.DataFrame</b><br/>def __init__(data=None, index: Axes | None=None, columns: Axes | None=None, dtype: Dtype | None=None, copy: bool | None=None) -&gt; None</pre><pre class=\"function-repr-contents function-repr-contents-collapsed\" style=\"\"><a class=\"filepath\" style=\"display:none\" href=\"#\">/usr/local/lib/python3.10/dist-packages/pandas/core/frame.py</a>Two-dimensional, size-mutable, potentially heterogeneous tabular data.\n",
              "\n",
              "Data structure also contains labeled axes (rows and columns).\n",
              "Arithmetic operations align on both row and column labels. Can be\n",
              "thought of as a dict-like container for Series objects. The primary\n",
              "pandas data structure.\n",
              "\n",
              "Parameters\n",
              "----------\n",
              "data : ndarray (structured or homogeneous), Iterable, dict, or DataFrame\n",
              "    Dict can contain Series, arrays, constants, dataclass or list-like objects. If\n",
              "    data is a dict, column order follows insertion-order. If a dict contains Series\n",
              "    which have an index defined, it is aligned by its index. This alignment also\n",
              "    occurs if data is a Series or a DataFrame itself. Alignment is done on\n",
              "    Series/DataFrame inputs.\n",
              "\n",
              "    If data is a list of dicts, column order follows insertion-order.\n",
              "\n",
              "index : Index or array-like\n",
              "    Index to use for resulting frame. Will default to RangeIndex if\n",
              "    no indexing information part of input data and no index provided.\n",
              "columns : Index or array-like\n",
              "    Column labels to use for resulting frame when data does not have them,\n",
              "    defaulting to RangeIndex(0, 1, 2, ..., n). If data contains column labels,\n",
              "    will perform column selection instead.\n",
              "dtype : dtype, default None\n",
              "    Data type to force. Only a single dtype is allowed. If None, infer.\n",
              "copy : bool or None, default None\n",
              "    Copy data from inputs.\n",
              "    For dict data, the default of None behaves like ``copy=True``.  For DataFrame\n",
              "    or 2d ndarray input, the default of None behaves like ``copy=False``.\n",
              "    If data is a dict containing one or more Series (possibly of different dtypes),\n",
              "    ``copy=False`` will ensure that these inputs are not copied.\n",
              "\n",
              "    .. versionchanged:: 1.3.0\n",
              "\n",
              "See Also\n",
              "--------\n",
              "DataFrame.from_records : Constructor from tuples, also record arrays.\n",
              "DataFrame.from_dict : From dicts of Series, arrays, or dicts.\n",
              "read_csv : Read a comma-separated values (csv) file into DataFrame.\n",
              "read_table : Read general delimited file into DataFrame.\n",
              "read_clipboard : Read text from clipboard into DataFrame.\n",
              "\n",
              "Notes\n",
              "-----\n",
              "Please reference the :ref:`User Guide &lt;basics.dataframe&gt;` for more information.\n",
              "\n",
              "Examples\n",
              "--------\n",
              "Constructing DataFrame from a dictionary.\n",
              "\n",
              "&gt;&gt;&gt; d = {&#x27;col1&#x27;: [1, 2], &#x27;col2&#x27;: [3, 4]}\n",
              "&gt;&gt;&gt; df = pd.DataFrame(data=d)\n",
              "&gt;&gt;&gt; df\n",
              "   col1  col2\n",
              "0     1     3\n",
              "1     2     4\n",
              "\n",
              "Notice that the inferred dtype is int64.\n",
              "\n",
              "&gt;&gt;&gt; df.dtypes\n",
              "col1    int64\n",
              "col2    int64\n",
              "dtype: object\n",
              "\n",
              "To enforce a single dtype:\n",
              "\n",
              "&gt;&gt;&gt; df = pd.DataFrame(data=d, dtype=np.int8)\n",
              "&gt;&gt;&gt; df.dtypes\n",
              "col1    int8\n",
              "col2    int8\n",
              "dtype: object\n",
              "\n",
              "Constructing DataFrame from a dictionary including Series:\n",
              "\n",
              "&gt;&gt;&gt; d = {&#x27;col1&#x27;: [0, 1, 2, 3], &#x27;col2&#x27;: pd.Series([2, 3], index=[2, 3])}\n",
              "&gt;&gt;&gt; pd.DataFrame(data=d, index=[0, 1, 2, 3])\n",
              "   col1  col2\n",
              "0     0   NaN\n",
              "1     1   NaN\n",
              "2     2   2.0\n",
              "3     3   3.0\n",
              "\n",
              "Constructing DataFrame from numpy ndarray:\n",
              "\n",
              "&gt;&gt;&gt; df2 = pd.DataFrame(np.array([[1, 2, 3], [4, 5, 6], [7, 8, 9]]),\n",
              "...                    columns=[&#x27;a&#x27;, &#x27;b&#x27;, &#x27;c&#x27;])\n",
              "&gt;&gt;&gt; df2\n",
              "   a  b  c\n",
              "0  1  2  3\n",
              "1  4  5  6\n",
              "2  7  8  9\n",
              "\n",
              "Constructing DataFrame from a numpy ndarray that has labeled columns:\n",
              "\n",
              "&gt;&gt;&gt; data = np.array([(1, 2, 3), (4, 5, 6), (7, 8, 9)],\n",
              "...                 dtype=[(&quot;a&quot;, &quot;i4&quot;), (&quot;b&quot;, &quot;i4&quot;), (&quot;c&quot;, &quot;i4&quot;)])\n",
              "&gt;&gt;&gt; df3 = pd.DataFrame(data, columns=[&#x27;c&#x27;, &#x27;a&#x27;])\n",
              "...\n",
              "&gt;&gt;&gt; df3\n",
              "   c  a\n",
              "0  3  1\n",
              "1  6  4\n",
              "2  9  7\n",
              "\n",
              "Constructing DataFrame from dataclass:\n",
              "\n",
              "&gt;&gt;&gt; from dataclasses import make_dataclass\n",
              "&gt;&gt;&gt; Point = make_dataclass(&quot;Point&quot;, [(&quot;x&quot;, int), (&quot;y&quot;, int)])\n",
              "&gt;&gt;&gt; pd.DataFrame([Point(0, 0), Point(0, 3), Point(2, 3)])\n",
              "   x  y\n",
              "0  0  0\n",
              "1  0  3\n",
              "2  2  3\n",
              "\n",
              "Constructing DataFrame from Series/DataFrame:\n",
              "\n",
              "&gt;&gt;&gt; ser = pd.Series([1, 2, 3], index=[&quot;a&quot;, &quot;b&quot;, &quot;c&quot;])\n",
              "&gt;&gt;&gt; df = pd.DataFrame(data=ser, index=[&quot;a&quot;, &quot;c&quot;])\n",
              "&gt;&gt;&gt; df\n",
              "   0\n",
              "a  1\n",
              "c  3\n",
              "\n",
              "&gt;&gt;&gt; df1 = pd.DataFrame([1, 2, 3], index=[&quot;a&quot;, &quot;b&quot;, &quot;c&quot;], columns=[&quot;x&quot;])\n",
              "&gt;&gt;&gt; df2 = pd.DataFrame(data=df1, index=[&quot;a&quot;, &quot;c&quot;])\n",
              "&gt;&gt;&gt; df2\n",
              "   x\n",
              "a  1\n",
              "c  3</pre>\n",
              "      <script>\n",
              "      if (google.colab.kernel.accessAllowed && google.colab.files && google.colab.files.view) {\n",
              "        for (const element of document.querySelectorAll('.filepath')) {\n",
              "          element.style.display = 'block'\n",
              "          element.onclick = (event) => {\n",
              "            event.preventDefault();\n",
              "            event.stopPropagation();\n",
              "            google.colab.files.view(element.textContent, 509);\n",
              "          };\n",
              "        }\n",
              "      }\n",
              "      for (const element of document.querySelectorAll('.function-repr-contents')) {\n",
              "        element.onclick = (event) => {\n",
              "          event.preventDefault();\n",
              "          event.stopPropagation();\n",
              "          element.classList.toggle('function-repr-contents-collapsed');\n",
              "        };\n",
              "      }\n",
              "      </script>\n",
              "      </div>"
            ]
          },
          "metadata": {},
          "execution_count": 13
        }
      ]
    },
    {
      "cell_type": "markdown",
      "source": [
        "A transformação de dados para tensores é necessária quando se trabalha com PyTorch (ou outras bibliotecas de deep learning, como TensorFlow), porque os tensores são a estrutura de dados fundamental usada para representar e manipular números nesses frameworks."
      ],
      "metadata": {
        "id": "iCIpIV4pJUP_"
      }
    },
    {
      "cell_type": "markdown",
      "source": [
        "Tensores são arrays multidimensionais que podem conter dados como números inteiros, números de ponto flutuante, entre outros.\n",
        "Exemplos:\n",
        "\n",
        "**Escalar:** Um número simples (0D tensor).\n",
        "\n",
        "**Vetor:** Um array unidimensional (1D tensor).\n",
        "\n",
        "**Matriz:** Um array bidimensional (2D tensor).\n",
        "\n",
        "**Tensor:** Um array de mais dimensões (3D ou mais)."
      ],
      "metadata": {
        "id": "c-Sl4CU5JWX0"
      }
    },
    {
      "cell_type": "code",
      "source": [
        "# começamos convertendendo em um array nosso df e em seguida criamos o tensor especificando que nossos dados devem ser do tipo float\n",
        "features_train = torch.tensor(np.array(features_train), dtype=torch.float)"
      ],
      "metadata": {
        "id": "_O79K5s8JQaZ"
      },
      "execution_count": 14,
      "outputs": []
    },
    {
      "cell_type": "code",
      "source": [
        "features_train"
      ],
      "metadata": {
        "colab": {
          "base_uri": "https://localhost:8080/"
        },
        "id": "pjItG01yKelZ",
        "outputId": "263fe029-5efb-483a-d517-2a92acb3a61e"
      },
      "execution_count": 15,
      "outputs": [
        {
          "output_type": "execute_result",
          "data": {
            "text/plain": [
              "tensor([[1.1540e+01, 1.4440e+01, 7.4650e+01,  ..., 6.9180e-02, 2.3290e-01,\n",
              "         8.1340e-02],\n",
              "        [2.0310e+01, 2.7060e+01, 1.3290e+02,  ..., 1.6970e-01, 3.1510e-01,\n",
              "         7.9990e-02],\n",
              "        [1.1360e+01, 1.7570e+01, 7.2490e+01,  ..., 8.6980e-02, 2.9730e-01,\n",
              "         7.7450e-02],\n",
              "        ...,\n",
              "        [1.2050e+01, 2.2720e+01, 7.8750e+01,  ..., 1.0920e-01, 2.1910e-01,\n",
              "         9.3490e-02],\n",
              "        [2.0440e+01, 2.1780e+01, 1.3380e+02,  ..., 1.7650e-01, 2.6090e-01,\n",
              "         6.7350e-02],\n",
              "        [1.1740e+01, 1.4690e+01, 7.6310e+01,  ..., 1.0560e-01, 2.6040e-01,\n",
              "         9.8790e-02]])"
            ]
          },
          "metadata": {},
          "execution_count": 15
        }
      ]
    },
    {
      "cell_type": "code",
      "source": [
        "previsoes_train = torch.tensor(np.array(previsoes_train), dtype=torch.float)"
      ],
      "metadata": {
        "id": "QjrGLMB1Kg45"
      },
      "execution_count": 16,
      "outputs": []
    },
    {
      "cell_type": "code",
      "source": [
        "type(previsoes_train)"
      ],
      "metadata": {
        "colab": {
          "base_uri": "https://localhost:8080/"
        },
        "id": "hiYeD3ZRK95R",
        "outputId": "1e705789-4b47-45c7-b706-1397c2f509c2"
      },
      "execution_count": 17,
      "outputs": [
        {
          "output_type": "execute_result",
          "data": {
            "text/plain": [
              "torch.Tensor"
            ]
          },
          "metadata": {},
          "execution_count": 17
        }
      ]
    },
    {
      "cell_type": "markdown",
      "source": [
        "Criamos um objeto TensorDataset que é utilizado para armazenar os dados de entrada (features) e as respectivas saídas (previsões) como um único conjunto de dados.\n",
        "\n",
        "\n",
        "Diferente dos outros métodos que trabalhamos com elas separadas:"
      ],
      "metadata": {
        "id": "I4R_LrjILEWi"
      }
    },
    {
      "cell_type": "code",
      "source": [
        "dataset_treino = torch.utils.data.TensorDataset(features_train, previsoes_train)"
      ],
      "metadata": {
        "id": "DEh6XeVOLC1O"
      },
      "execution_count": 18,
      "outputs": []
    },
    {
      "cell_type": "code",
      "source": [
        "train_loader = torch.utils.data.DataLoader(dataset_treino, batch_size=10, shuffle=True)\n",
        "# batch_size=10:define quantas amostras serão carregadas em cada lote."
      ],
      "metadata": {
        "id": "Ocx4zp-qLbZE"
      },
      "execution_count": 19,
      "outputs": []
    },
    {
      "cell_type": "markdown",
      "source": [
        "DataLoader é uma classe do PyTorch que permite carregar dados de forma eficiente em lotes (ou batches).\n",
        "Ele fornece funcionalidades para iterar sobre o dataset, gerenciando o carregamento dos dados em memória de maneira otimizada, o que é especialmente útil para grandes conjuntos de dados."
      ],
      "metadata": {
        "id": "0lsgyc1YLic0"
      }
    },
    {
      "cell_type": "markdown",
      "source": [
        "**Batching e Embaralhamento:** A configuração do tamanho do lote e o embaralhamento ajudam a melhorar o desempenho do modelo durante o treinamento, evitando overfitting e melhorando a convergência."
      ],
      "metadata": {
        "id": "52elVS_zL27I"
      }
    },
    {
      "cell_type": "markdown",
      "source": [
        "**Criação do modelo:**"
      ],
      "metadata": {
        "id": "RAltOg8mQJPZ"
      }
    },
    {
      "cell_type": "code",
      "source": [
        "classificador = nn.Sequential(\n",
        "    nn.Linear(in_features=30, out_features=16),\n",
        "    nn.ReLU(),\n",
        "    nn.Linear(16, 16),\n",
        "    nn.ReLU(),\n",
        "    nn.Linear(16, 1),\n",
        "    nn.Sigmoid()\n",
        ")\n",
        "\n",
        "# Teremos 30 neuronios pois temos 30 features de entrada\n",
        "# a primeira camada oculta com 16 neuronios\n",
        "# segunda com 16\n",
        "# terceira (saida) 1 neuronio"
      ],
      "metadata": {
        "id": "ujeYwbNjP6KC"
      },
      "execution_count": 20,
      "outputs": []
    },
    {
      "cell_type": "markdown",
      "source": [
        "**nn.Sequential:** permite empilhar várias camadas de forma sequencial, onde a saída de uma camada se torna a entrada da próxima.\n",
        "\n",
        "**nn.Linear(in_features=30, out_features=16):** Esta é a primeira camada da rede. É uma camada totalmente conectada (ou camada densa) que recebe 30 entradas (in_features=30) e produz 16 saídas (out_features=16).\n",
        "\n",
        "**nn.ReLU():sta** é uma função de ativação chamada ReLU (Rectified Linear Unit). Ela aplica a função a cada elemento da saída da camada anterior, introduzindo não-linearidade ao modelo.\n",
        "\n",
        "**nn.Linear(16, 16):** Esta é a segunda camada linear, que recebe 16 entradas (da camada anterior) e também produz 16 saídas.\n",
        "\n",
        "**nn.Linear(16, 1):** Esta é a terceira camada linear, que reduz as 16 saídas para uma única saída.\n",
        "\n",
        "\n",
        "\n",
        "\n"
      ],
      "metadata": {
        "id": "mBbJ5BK9QRxv"
      }
    },
    {
      "cell_type": "code",
      "source": [
        "classificador.parameters"
      ],
      "metadata": {
        "colab": {
          "base_uri": "https://localhost:8080/",
          "height": 186
        },
        "id": "7kNx-Y_4RAG4",
        "outputId": "71cf3bd8-7091-4a59-9b96-af0aba451f07"
      },
      "execution_count": 21,
      "outputs": [
        {
          "output_type": "execute_result",
          "data": {
            "text/plain": [
              "<bound method Module.parameters of Sequential(\n",
              "  (0): Linear(in_features=30, out_features=16, bias=True)\n",
              "  (1): ReLU()\n",
              "  (2): Linear(in_features=16, out_features=16, bias=True)\n",
              "  (3): ReLU()\n",
              "  (4): Linear(in_features=16, out_features=1, bias=True)\n",
              "  (5): Sigmoid()\n",
              ")>"
            ],
            "text/html": [
              "<div style=\"max-width:800px; border: 1px solid var(--colab-border-color);\"><style>\n",
              "      pre.function-repr-contents {\n",
              "        overflow-x: auto;\n",
              "        padding: 8px 12px;\n",
              "        max-height: 500px;\n",
              "      }\n",
              "\n",
              "      pre.function-repr-contents.function-repr-contents-collapsed {\n",
              "        cursor: pointer;\n",
              "        max-height: 100px;\n",
              "      }\n",
              "    </style>\n",
              "    <pre style=\"white-space: initial; background:\n",
              "         var(--colab-secondary-surface-color); padding: 8px 12px;\n",
              "         border-bottom: 1px solid var(--colab-border-color);\"><b>torch.nn.modules.module.Module.parameters</b><br/>def parameters(recurse: bool=True) -&gt; Iterator[Parameter]</pre><pre class=\"function-repr-contents function-repr-contents-collapsed\" style=\"\"><a class=\"filepath\" style=\"display:none\" href=\"#\">/usr/local/lib/python3.10/dist-packages/torch/nn/modules/module.py</a>Return an iterator over module parameters.\n",
              "\n",
              "This is typically passed to an optimizer.\n",
              "\n",
              "Args:\n",
              "    recurse (bool): if True, then yields parameters of this module\n",
              "        and all submodules. Otherwise, yields only parameters that\n",
              "        are direct members of this module.\n",
              "\n",
              "Yields:\n",
              "    Parameter: module parameter\n",
              "\n",
              "Example::\n",
              "\n",
              "    &gt;&gt;&gt; # xdoctest: +SKIP(&quot;undefined vars&quot;)\n",
              "    &gt;&gt;&gt; for param in model.parameters():\n",
              "    &gt;&gt;&gt;     print(type(param), param.size())\n",
              "    &lt;class &#x27;torch.Tensor&#x27;&gt; (20L,)\n",
              "    &lt;class &#x27;torch.Tensor&#x27;&gt; (20L, 1L, 5L, 5L)</pre>\n",
              "      <script>\n",
              "      if (google.colab.kernel.accessAllowed && google.colab.files && google.colab.files.view) {\n",
              "        for (const element of document.querySelectorAll('.filepath')) {\n",
              "          element.style.display = 'block'\n",
              "          element.onclick = (event) => {\n",
              "            event.preventDefault();\n",
              "            event.stopPropagation();\n",
              "            google.colab.files.view(element.textContent, 2233);\n",
              "          };\n",
              "        }\n",
              "      }\n",
              "      for (const element of document.querySelectorAll('.function-repr-contents')) {\n",
              "        element.onclick = (event) => {\n",
              "          event.preventDefault();\n",
              "          event.stopPropagation();\n",
              "          element.classList.toggle('function-repr-contents-collapsed');\n",
              "        };\n",
              "      }\n",
              "      </script>\n",
              "      </div>"
            ]
          },
          "metadata": {},
          "execution_count": 21
        }
      ]
    },
    {
      "cell_type": "code",
      "source": [
        "criterion = nn.BCELoss()\n",
        "# que é uma função de perda utilizada para problemas de classificação binária.\n",
        "# A perda de entropia cruzada mede a diferença entre as distribuições de probabilidade previstas pelo modelo e as distribuições reais (ou verdadeiras) das classes."
      ],
      "metadata": {
        "id": "Y01DC2-NREC9"
      },
      "execution_count": 22,
      "outputs": []
    },
    {
      "cell_type": "code",
      "source": [
        "optimizer = torch.optim.Adam(classificador.parameters(), lr=0.001, weight_decay=0.0001)\n",
        "# O uso de Adam com uma taxa de aprendizado adequada e regularização ajuda a garantir que o modelo aprenda de forma eficiente, evitando problemas como o overfitting e promovendo uma convergência mais rápida e estável."
      ],
      "metadata": {
        "id": "Pox7NpW_RNiK"
      },
      "execution_count": 23,
      "outputs": []
    },
    {
      "cell_type": "markdown",
      "source": [
        "**Treinamento do modelo:**"
      ],
      "metadata": {
        "id": "0lTixjvlRX3x"
      }
    },
    {
      "cell_type": "markdown",
      "source": [
        "Para fazer o treinamento não temos uma função da biblioteca então temos que fazer um for."
      ],
      "metadata": {
        "id": "KZNrmqOnRc1x"
      }
    },
    {
      "cell_type": "markdown",
      "source": [
        "Loop de treinamento que se repete por 100 épocas.\n",
        "O código treina um modelo de rede neural por 100 épocas, processando os dados em lotes, calculando a perda e atualizando os parâmetros do modelo em cada iteração."
      ],
      "metadata": {
        "id": "fFytJvxXRwqe"
      }
    },
    {
      "cell_type": "markdown",
      "source": [
        "Uma época é um ciclo completo através do conjunto de dados de treinamento. Isso significa que durante uma época, o modelo é alimentado com todos os dados de treinamento disponíveis uma vez, e cada amostra é usada para atualizar os parâmetros do modelo (pesos e biases)."
      ],
      "metadata": {
        "id": "N9HK_j9lR_9X"
      }
    },
    {
      "cell_type": "markdown",
      "source": [
        "**Durante cada época, os pesos do modelo são ajustados com base nas previsões feitas e na perda calculada. O objetivo é melhorar a precisão do modelo ao longo do tempo.**"
      ],
      "metadata": {
        "id": "w1OTSZTASIA0"
      }
    },
    {
      "cell_type": "code",
      "source": [
        "for epoch in range(100):\n",
        "  running_loss = 0.\n",
        "\n",
        "  for data in train_loader:\n",
        "    inputs, labels = data\n",
        "    optimizer.zero_grad()\n",
        "\n",
        "    outputs = classificador(inputs)\n",
        "    loss = criterion(outputs, labels)\n",
        "    loss.backward()\n",
        "    optimizer.step()\n",
        "\n",
        "    running_loss += loss.item()\n",
        "  print('Época %3d: perda %.5f' % (epoch+1, running_loss/len(train_loader)))"
      ],
      "metadata": {
        "colab": {
          "base_uri": "https://localhost:8080/"
        },
        "id": "jbD5tYVSRbHB",
        "outputId": "047ea43e-4340-49b4-c240-52b8937ef5ef"
      },
      "execution_count": 24,
      "outputs": [
        {
          "output_type": "stream",
          "name": "stdout",
          "text": [
            "Época   1: perda 10.78336\n",
            "Época   2: perda 2.84864\n",
            "Época   3: perda 1.67480\n",
            "Época   4: perda 1.11414\n",
            "Época   5: perda 0.63996\n",
            "Época   6: perda 0.63753\n",
            "Época   7: perda 0.58066\n",
            "Época   8: perda 0.55460\n",
            "Época   9: perda 0.55617\n",
            "Época  10: perda 0.53322\n",
            "Época  11: perda 0.55797\n",
            "Época  12: perda 0.53816\n",
            "Época  13: perda 0.52938\n",
            "Época  14: perda 0.33227\n",
            "Época  15: perda 0.51360\n",
            "Época  16: perda 0.35532\n",
            "Época  17: perda 0.49602\n",
            "Época  18: perda 0.33208\n",
            "Época  19: perda 0.29349\n",
            "Época  20: perda 0.25046\n",
            "Época  21: perda 0.29527\n",
            "Época  22: perda 0.49888\n",
            "Época  23: perda 0.47241\n",
            "Época  24: perda 0.45883\n",
            "Época  25: perda 0.27544\n",
            "Época  26: perda 0.23399\n",
            "Época  27: perda 0.26373\n",
            "Época  28: perda 0.24136\n",
            "Época  29: perda 0.28275\n",
            "Época  30: perda 0.22633\n",
            "Época  31: perda 0.19294\n",
            "Época  32: perda 0.22258\n",
            "Época  33: perda 0.20290\n",
            "Época  34: perda 0.20888\n",
            "Época  35: perda 0.20335\n",
            "Época  36: perda 0.20316\n",
            "Época  37: perda 0.18855\n",
            "Época  38: perda 0.22316\n",
            "Época  39: perda 0.23315\n",
            "Época  40: perda 0.19261\n",
            "Época  41: perda 0.17163\n",
            "Época  42: perda 0.18287\n",
            "Época  43: perda 0.17056\n",
            "Época  44: perda 0.16674\n",
            "Época  45: perda 0.18515\n",
            "Época  46: perda 0.22250\n",
            "Época  47: perda 0.17558\n",
            "Época  48: perda 0.22754\n",
            "Época  49: perda 0.19838\n",
            "Época  50: perda 0.16372\n",
            "Época  51: perda 0.16854\n",
            "Época  52: perda 0.18337\n",
            "Época  53: perda 0.17596\n",
            "Época  54: perda 0.17882\n",
            "Época  55: perda 0.18470\n",
            "Época  56: perda 0.17070\n",
            "Época  57: perda 0.15698\n",
            "Época  58: perda 0.18550\n",
            "Época  59: perda 0.13970\n",
            "Época  60: perda 0.16062\n",
            "Época  61: perda 0.16865\n",
            "Época  62: perda 0.15084\n",
            "Época  63: perda 0.13656\n",
            "Época  64: perda 0.14919\n",
            "Época  65: perda 0.16352\n",
            "Época  66: perda 0.24313\n",
            "Época  67: perda 0.16440\n",
            "Época  68: perda 0.15935\n",
            "Época  69: perda 0.14267\n",
            "Época  70: perda 0.16159\n",
            "Época  71: perda 0.14759\n",
            "Época  72: perda 0.15789\n",
            "Época  73: perda 0.12313\n",
            "Época  74: perda 0.13982\n",
            "Época  75: perda 0.14227\n",
            "Época  76: perda 0.12895\n",
            "Época  77: perda 0.12276\n",
            "Época  78: perda 0.14855\n",
            "Época  79: perda 0.22008\n",
            "Época  80: perda 0.20448\n",
            "Época  81: perda 0.23247\n",
            "Época  82: perda 0.16739\n",
            "Época  83: perda 0.12073\n",
            "Época  84: perda 0.12849\n",
            "Época  85: perda 0.12597\n",
            "Época  86: perda 0.12376\n",
            "Época  87: perda 0.15789\n",
            "Época  88: perda 0.12874\n",
            "Época  89: perda 0.15042\n",
            "Época  90: perda 0.13076\n",
            "Época  91: perda 0.16186\n",
            "Época  92: perda 0.14431\n",
            "Época  93: perda 0.09702\n",
            "Época  94: perda 0.13241\n",
            "Época  95: perda 0.10748\n",
            "Época  96: perda 0.12752\n",
            "Época  97: perda 0.12629\n",
            "Época  98: perda 0.12295\n",
            "Época  99: perda 0.14163\n",
            "Época 100: perda 0.13735\n"
          ]
        }
      ]
    },
    {
      "cell_type": "markdown",
      "source": [
        "**Avaliação Modelo:**"
      ],
      "metadata": {
        "id": "9XoYrgurSy3S"
      }
    },
    {
      "cell_type": "code",
      "source": [
        "classificador.eval()"
      ],
      "metadata": {
        "colab": {
          "base_uri": "https://localhost:8080/"
        },
        "id": "DotbfxeUS01L",
        "outputId": "4f2c197d-9568-4330-f958-e6861b07bfb6"
      },
      "execution_count": 25,
      "outputs": [
        {
          "output_type": "execute_result",
          "data": {
            "text/plain": [
              "Sequential(\n",
              "  (0): Linear(in_features=30, out_features=16, bias=True)\n",
              "  (1): ReLU()\n",
              "  (2): Linear(in_features=16, out_features=16, bias=True)\n",
              "  (3): ReLU()\n",
              "  (4): Linear(in_features=16, out_features=1, bias=True)\n",
              "  (5): Sigmoid()\n",
              ")"
            ]
          },
          "metadata": {},
          "execution_count": 25
        }
      ]
    },
    {
      "cell_type": "code",
      "source": [
        "features_test = torch.tensor(np.array(features_test), dtype=torch.float)"
      ],
      "metadata": {
        "id": "Gphb_jVfS9qW"
      },
      "execution_count": 27,
      "outputs": []
    },
    {
      "cell_type": "markdown",
      "source": [
        "Aqui nós realizamos as previsões para base de teste:"
      ],
      "metadata": {
        "id": "GOzx7oL4TizE"
      }
    },
    {
      "cell_type": "code",
      "source": [
        "previsoes = classificador.forward(features_test)"
      ],
      "metadata": {
        "id": "NZSxBbk-TDV9"
      },
      "execution_count": 28,
      "outputs": []
    },
    {
      "cell_type": "code",
      "source": [
        "previsoes"
      ],
      "metadata": {
        "colab": {
          "base_uri": "https://localhost:8080/"
        },
        "id": "eFpqvWROTG1Q",
        "outputId": "49026897-d403-405b-a38f-5b4938e04152"
      },
      "execution_count": 29,
      "outputs": [
        {
          "output_type": "execute_result",
          "data": {
            "text/plain": [
              "tensor([[9.9355e-01],\n",
              "        [1.0000e+00],\n",
              "        [3.6576e-01],\n",
              "        [9.5613e-01],\n",
              "        [1.7193e-04],\n",
              "        [8.6620e-01],\n",
              "        [9.5629e-01],\n",
              "        [9.9984e-01],\n",
              "        [6.8121e-01],\n",
              "        [6.8945e-01],\n",
              "        [9.4789e-01],\n",
              "        [9.9813e-01],\n",
              "        [8.9354e-01],\n",
              "        [9.9553e-01],\n",
              "        [9.9704e-01],\n",
              "        [8.5391e-01],\n",
              "        [9.9631e-01],\n",
              "        [1.0000e+00],\n",
              "        [3.8023e-01],\n",
              "        [9.9742e-01],\n",
              "        [8.3553e-10],\n",
              "        [1.1818e-02],\n",
              "        [4.8342e-01],\n",
              "        [1.0000e+00],\n",
              "        [9.1356e-01],\n",
              "        [5.3865e-03],\n",
              "        [8.6497e-01],\n",
              "        [1.0000e+00],\n",
              "        [2.4472e-04],\n",
              "        [9.9782e-01],\n",
              "        [5.5634e-01],\n",
              "        [9.9999e-01],\n",
              "        [8.9235e-01],\n",
              "        [9.8796e-01],\n",
              "        [4.3623e-01],\n",
              "        [9.9818e-01],\n",
              "        [6.4472e-01],\n",
              "        [9.9853e-01],\n",
              "        [9.9761e-01],\n",
              "        [4.9669e-05],\n",
              "        [7.6495e-03],\n",
              "        [9.2132e-01],\n",
              "        [1.3711e-07],\n",
              "        [3.2506e-01],\n",
              "        [8.6432e-05],\n",
              "        [6.5747e-01],\n",
              "        [2.8347e-04],\n",
              "        [1.6147e-31],\n",
              "        [6.5270e-01],\n",
              "        [1.2944e-02],\n",
              "        [9.6514e-01],\n",
              "        [7.1341e-15],\n",
              "        [9.8025e-01],\n",
              "        [9.6091e-01],\n",
              "        [9.9323e-01],\n",
              "        [6.2323e-01],\n",
              "        [9.9981e-01],\n",
              "        [9.9915e-08],\n",
              "        [4.9115e-06],\n",
              "        [9.9117e-01],\n",
              "        [1.3470e-04],\n",
              "        [9.9780e-01],\n",
              "        [9.9193e-01],\n",
              "        [9.9651e-01],\n",
              "        [6.2902e-01],\n",
              "        [6.1762e-08],\n",
              "        [1.0000e+00],\n",
              "        [1.0000e+00],\n",
              "        [1.0000e+00],\n",
              "        [7.6336e-01],\n",
              "        [1.0000e+00],\n",
              "        [9.6684e-01],\n",
              "        [1.4621e-01],\n",
              "        [9.2274e-01],\n",
              "        [7.7202e-04],\n",
              "        [9.9737e-01],\n",
              "        [9.4967e-01],\n",
              "        [9.1851e-10],\n",
              "        [2.6923e-06],\n",
              "        [3.3011e-01],\n",
              "        [9.0067e-01],\n",
              "        [7.2593e-06],\n",
              "        [2.8588e-07],\n",
              "        [9.9366e-01],\n",
              "        [1.0000e+00],\n",
              "        [1.0000e+00],\n",
              "        [1.3597e-01],\n",
              "        [9.9527e-01],\n",
              "        [1.9097e-03],\n",
              "        [7.4010e-01],\n",
              "        [1.8058e-02],\n",
              "        [9.7961e-01],\n",
              "        [9.8338e-01],\n",
              "        [2.6324e-02],\n",
              "        [9.9581e-01],\n",
              "        [9.9995e-01],\n",
              "        [9.9958e-01],\n",
              "        [9.9719e-01],\n",
              "        [1.4541e-02],\n",
              "        [1.0000e+00],\n",
              "        [9.9991e-01],\n",
              "        [1.0000e+00],\n",
              "        [9.9804e-01],\n",
              "        [9.8263e-01],\n",
              "        [9.5251e-01],\n",
              "        [1.0000e+00],\n",
              "        [1.0000e+00],\n",
              "        [9.9309e-01],\n",
              "        [1.0000e+00],\n",
              "        [9.9699e-01],\n",
              "        [1.0000e+00],\n",
              "        [9.9996e-01],\n",
              "        [8.4408e-01],\n",
              "        [1.0377e-05],\n",
              "        [9.3723e-01],\n",
              "        [3.0518e-04],\n",
              "        [9.9866e-01],\n",
              "        [8.0362e-04],\n",
              "        [9.9762e-01],\n",
              "        [9.9636e-01],\n",
              "        [8.8112e-01],\n",
              "        [7.3520e-01],\n",
              "        [9.9982e-01],\n",
              "        [9.9916e-01],\n",
              "        [4.2761e-07],\n",
              "        [9.9159e-01],\n",
              "        [8.7697e-03],\n",
              "        [3.2679e-01],\n",
              "        [1.0000e+00],\n",
              "        [9.9483e-01],\n",
              "        [1.4759e-09],\n",
              "        [9.1257e-01],\n",
              "        [1.0000e+00],\n",
              "        [2.2183e-02],\n",
              "        [1.3935e-06],\n",
              "        [9.6516e-01],\n",
              "        [9.8790e-01],\n",
              "        [9.9972e-01],\n",
              "        [7.4248e-02],\n",
              "        [1.8654e-05],\n",
              "        [1.1041e-05],\n",
              "        [9.9522e-01],\n",
              "        [4.0978e-11]], grad_fn=<SigmoidBackward0>)"
            ]
          },
          "metadata": {},
          "execution_count": 29
        }
      ]
    },
    {
      "cell_type": "markdown",
      "source": [
        "Quando o valor previsto tiver probabilidade > 0.5 então true!"
      ],
      "metadata": {
        "id": "_gpiMj9mTJ42"
      }
    },
    {
      "cell_type": "code",
      "source": [
        "previsoes = np.array(previsoes > 0.5)\n",
        "previsoes"
      ],
      "metadata": {
        "colab": {
          "base_uri": "https://localhost:8080/"
        },
        "id": "K1JZPmHjTJJ0",
        "outputId": "a1e7798c-946d-4a1b-bd4e-df20f2e95417"
      },
      "execution_count": 30,
      "outputs": [
        {
          "output_type": "execute_result",
          "data": {
            "text/plain": [
              "array([[ True],\n",
              "       [ True],\n",
              "       [False],\n",
              "       [ True],\n",
              "       [False],\n",
              "       [ True],\n",
              "       [ True],\n",
              "       [ True],\n",
              "       [ True],\n",
              "       [ True],\n",
              "       [ True],\n",
              "       [ True],\n",
              "       [ True],\n",
              "       [ True],\n",
              "       [ True],\n",
              "       [ True],\n",
              "       [ True],\n",
              "       [ True],\n",
              "       [False],\n",
              "       [ True],\n",
              "       [False],\n",
              "       [False],\n",
              "       [False],\n",
              "       [ True],\n",
              "       [ True],\n",
              "       [False],\n",
              "       [ True],\n",
              "       [ True],\n",
              "       [False],\n",
              "       [ True],\n",
              "       [ True],\n",
              "       [ True],\n",
              "       [ True],\n",
              "       [ True],\n",
              "       [False],\n",
              "       [ True],\n",
              "       [ True],\n",
              "       [ True],\n",
              "       [ True],\n",
              "       [False],\n",
              "       [False],\n",
              "       [ True],\n",
              "       [False],\n",
              "       [False],\n",
              "       [False],\n",
              "       [ True],\n",
              "       [False],\n",
              "       [False],\n",
              "       [ True],\n",
              "       [False],\n",
              "       [ True],\n",
              "       [False],\n",
              "       [ True],\n",
              "       [ True],\n",
              "       [ True],\n",
              "       [ True],\n",
              "       [ True],\n",
              "       [False],\n",
              "       [False],\n",
              "       [ True],\n",
              "       [False],\n",
              "       [ True],\n",
              "       [ True],\n",
              "       [ True],\n",
              "       [ True],\n",
              "       [False],\n",
              "       [ True],\n",
              "       [ True],\n",
              "       [ True],\n",
              "       [ True],\n",
              "       [ True],\n",
              "       [ True],\n",
              "       [False],\n",
              "       [ True],\n",
              "       [False],\n",
              "       [ True],\n",
              "       [ True],\n",
              "       [False],\n",
              "       [False],\n",
              "       [False],\n",
              "       [ True],\n",
              "       [False],\n",
              "       [False],\n",
              "       [ True],\n",
              "       [ True],\n",
              "       [ True],\n",
              "       [False],\n",
              "       [ True],\n",
              "       [False],\n",
              "       [ True],\n",
              "       [False],\n",
              "       [ True],\n",
              "       [ True],\n",
              "       [False],\n",
              "       [ True],\n",
              "       [ True],\n",
              "       [ True],\n",
              "       [ True],\n",
              "       [False],\n",
              "       [ True],\n",
              "       [ True],\n",
              "       [ True],\n",
              "       [ True],\n",
              "       [ True],\n",
              "       [ True],\n",
              "       [ True],\n",
              "       [ True],\n",
              "       [ True],\n",
              "       [ True],\n",
              "       [ True],\n",
              "       [ True],\n",
              "       [ True],\n",
              "       [ True],\n",
              "       [False],\n",
              "       [ True],\n",
              "       [False],\n",
              "       [ True],\n",
              "       [False],\n",
              "       [ True],\n",
              "       [ True],\n",
              "       [ True],\n",
              "       [ True],\n",
              "       [ True],\n",
              "       [ True],\n",
              "       [False],\n",
              "       [ True],\n",
              "       [False],\n",
              "       [False],\n",
              "       [ True],\n",
              "       [ True],\n",
              "       [False],\n",
              "       [ True],\n",
              "       [ True],\n",
              "       [False],\n",
              "       [False],\n",
              "       [ True],\n",
              "       [ True],\n",
              "       [ True],\n",
              "       [False],\n",
              "       [False],\n",
              "       [False],\n",
              "       [ True],\n",
              "       [False]])"
            ]
          },
          "metadata": {},
          "execution_count": 30
        }
      ]
    },
    {
      "cell_type": "code",
      "source": [
        "taxa_acerto = accuracy_score(previsoes_test, previsoes)\n",
        "taxa_acerto"
      ],
      "metadata": {
        "colab": {
          "base_uri": "https://localhost:8080/"
        },
        "id": "IEBgIeLETRks",
        "outputId": "82d410ce-f570-4847-f3b2-65e23429c6ef"
      },
      "execution_count": 33,
      "outputs": [
        {
          "output_type": "execute_result",
          "data": {
            "text/plain": [
              "0.8951048951048951"
            ]
          },
          "metadata": {},
          "execution_count": 33
        }
      ]
    },
    {
      "cell_type": "code",
      "source": [
        "matriz = confusion_matrix(previsoes_test, previsoes)\n",
        "matriz"
      ],
      "metadata": {
        "colab": {
          "base_uri": "https://localhost:8080/"
        },
        "id": "zyJZHVobTbu_",
        "outputId": "1612c4fd-1d9e-40d5-c3a2-6f80529e59ba"
      },
      "execution_count": 34,
      "outputs": [
        {
          "output_type": "execute_result",
          "data": {
            "text/plain": [
              "array([[43, 11],\n",
              "       [ 4, 85]])"
            ]
          },
          "metadata": {},
          "execution_count": 34
        }
      ]
    },
    {
      "cell_type": "code",
      "source": [
        "sns.heatmap(matriz, annot=True);"
      ],
      "metadata": {
        "colab": {
          "base_uri": "https://localhost:8080/",
          "height": 430
        },
        "id": "IchSIMunTdUk",
        "outputId": "3e6bd4e9-92fa-4cbb-b565-bc55a8659621"
      },
      "execution_count": 35,
      "outputs": [
        {
          "output_type": "display_data",
          "data": {
            "text/plain": [
              "<Figure size 640x480 with 2 Axes>"
            ],
            "image/png": "[encoded data removed]"
          },
          "metadata": {}
        }
      ]
    }
  ]
}